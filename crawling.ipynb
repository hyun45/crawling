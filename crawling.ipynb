{
 "cells": [
  {
   "cell_type": "code",
   "execution_count": 1,
   "metadata": {},
   "outputs": [
    {
     "name": "stdout",
     "output_type": "stream",
     "text": [
      "['\"비트코인 역대 신고가\"…관련주도 \\'불기둥\\'', '쌍특검 표결 연기에 어두워진 국민의힘, 왜?', '과기정통부 \"국내 이통사, 통화기록 3테라 中해킹 확인중\"', '코 막힘 콧물 재채기 증상, 환절기에도 조심해야', '치매 걱정되는 중년 여성들...“요가 한 번 해봐요”', '“차라리 적금을 붓지”…낸 만큼 돌려받는 미래세대 新연금 [세대분리 연금개혁안②]', '낙하산 타고 떨어진 ‘최후의 수단’…가자주민 수백명 바다에 뛰어들었다', '\"암표 꼼짝마\"...에스티씨랩, 매크로 탐지 솔루션 \\'엠버스터\\' 출시', '퇴직연금 사전지정운용제도 1조 원 시대… 고수익 뒤 가려진 고위험', '연내 일시적 디플레 올 수 있다...손성원 교수 전망 왜? [월가월부]', '\"\\'김일성 시신 안치\\' 금수산궁전에선 미니스커트·청바지 금지\"', '삼청동·뉴욕 고급주택 ‘풀소유’ 논란 딛고…3년만에 방송 복귀한 혜민 스님', '“아 그거 맛이 뭐였지” 설명하자 음료가 ‘뚝딱’…새 기술에 눈이 번쩍', '지금, 남양주 민심 “민주당 싹쓸이? 이번엔 어림없어요”', '수능 끝나면 후회 없이 책상 벗어나 미래 위해 놀자', '[스프] 벌써 2년…이럴 줄 몰랐던 러-우 전쟁, 푸틴의 진짜 목적은', '이젠 9000만원 넘보는 비트코인…하루 만에 1000만원 넘게 올랐다', '구글 CEO \"제미나이 실수 인정…기능 좋아지고 있다\"', '해수부, 한자·일본식 표현 수두룩한 수산 분야 용어 손질', '\"3일만에 1조원 수익\"...비트코인 급등에 웃는 \\'이 남자\\'', '[전종철의 전격시사] 김종혁 조직부총장 (국민의힘) - “집권여당 공천잡음 이렇게 없던적 있었나”', '[정치쇼] 조규홍 장관 \"\\'강경 의협\\'? 개원의 많아서… 다른 분들과 얘기해야\"', '[주니어 생글 기자가 간다] 파리의 아름다웠던 시절을 만나다 미셸 들라크루아 전시회', '정쟁 ‘거래 수단’ 된 쌍특검 재표결과 선거구획정[이런정치]', '[현장영상+] 정부 \"의료정상화, 국민과 지역 살리기 위한 마지막 기회\"', '[사이테크+] \"인간·유인원 꼬리 없어지게 만든 유전자 변이 찾았다\"', '[시선집중] 복지부 \"이탈 전공의 감소 추세.. 오늘 밤까지 복귀 명단 받고 현장 점검“', '연내 일시적 디플레 올 수 있다...손성원 교수 전망 왜? [월가월부]', '시커먼 피해 지역 뒤로한 채 이동하는 불길', \"전공의 복귀 최후통첩 디데이 '의사 집단행동 중대본 회의'\", '휠체어 타고 입장하는 교황', '주미대한제국공사관 찾은 조태열 장관'] 32\n"
     ]
    }
   ],
   "source": [
    "import urllib.request as req\n",
    "from bs4 import BeautifulSoup\n",
    "\n",
    "url = \"http://media.daum.net\"\n",
    "\n",
    "res = req.urlopen(url)\n",
    "source = res.read()\n",
    "\n",
    "# 한글깨짐 방지\n",
    "source = source.decode('utf-8')\n",
    "\n",
    "html = BeautifulSoup(source, 'html.parser')\n",
    "\n",
    "atags = html.select('a[class=link_txt]')\n",
    "\n",
    "result_data = []\n",
    "\n",
    "cnt = 0\n",
    "\n",
    "for atag in atags:\n",
    "    cnt += 1\n",
    "    atag_str = str(atag.string)\n",
    "    result_data.append(atag_str.strip())\n",
    "\n",
    "print(result_data, cnt)"
   ]
  },
  {
   "cell_type": "code",
   "execution_count": 2,
   "metadata": {},
   "outputs": [
    {
     "name": "stdout",
     "output_type": "stream",
     "text": [
      "['비트코인 역대 신고가…관련주도 불기둥', '쌍특검 표결 연기에 어두워진 국민의힘 왜', '과기정통부 국내 이통사 통화기록 테라 中해킹 확인중', '코 막힘 콧물 재채기 증상 환절기에도 조심해야', '치매 걱정되는 중년 여성들“요가 한 번 해봐요”', '“차라리 적금을 붓지”…낸 만큼 돌려받는 미래세대 新연금 [세대분리 연금개혁안②]', '낙하산 타고 떨어진 ‘최후의 수단’…가자주민 수백명 바다에 뛰어들었다', '암표 꼼짝마에스티씨랩 매크로 탐지 솔루션 엠버스터 출시', '퇴직연금 사전지정운용제도 조 원 시대… 고수익 뒤 가려진 고위험', '연내 일시적 디플레 올 수 있다손성원 교수 전망 왜 [월가월부]', '김일성 시신 안치 금수산궁전에선 미니스커트·청바지 금지', '삼청동·뉴욕 고급주택 ‘풀소유’ 논란 딛고…년만에 방송 복귀한 혜민 스님', '“아 그거 맛이 뭐였지” 설명하자 음료가 ‘뚝딱’…새 기술에 눈이 번쩍', '지금 남양주 민심 “민주당 싹쓸이 이번엔 어림없어요”', '수능 끝나면 후회 없이 책상 벗어나 미래 위해 놀자', '[스프] 벌써 년…이럴 줄 몰랐던 러-우 전쟁 푸틴의 진짜 목적은', '이젠 만원 넘보는 비트코인…하루 만에 만원 넘게 올랐다', '구글 ceo 제미나이 실수 인정…기능 좋아지고 있다', '해수부 한자·일본식 표현 수두룩한 수산 분야 용어 손질', '일만에 조원 수익비트코인 급등에 웃는 이 남자', '[전종철의 전격시사] 김종혁 조직부총장 국민의힘 - “집권여당 공천잡음 이렇게 없던적 있었나”', '[정치쇼] 조규홍 장관 강경 의협 개원의 많아서… 다른 분들과 얘기해야', '[주니어 생글 기자가 간다] 파리의 아름다웠던 시절을 만나다 미셸 들라크루아 전시회', '정쟁 ‘거래 수단’ 된 쌍특검 재표결과 선거구획정[이런정치]', '[현장영상+] 정부 의료정상화 국민과 지역 살리기 위한 마지막 기회', '[사이테크+] 인간·유인원 꼬리 없어지게 만든 유전자 변이 찾았다', '[시선집중] 복지부 이탈 전공의 감소 추세 오늘 밤까지 복귀 명단 받고 현장 점검“', '연내 일시적 디플레 올 수 있다손성원 교수 전망 왜 [월가월부]', '시커먼 피해 지역 뒤로한 채 이동하는 불길', '전공의 복귀 최후통첩 디데이 의사 집단행동 중대본 회의', '휠체어 타고 입장하는 교황', '주미대한제국공사관 찾은 조태열 장관']\n"
     ]
    }
   ],
   "source": [
    "# 텍스트 전처리\n",
    "import re\n",
    "\n",
    "def clean_text(text):\n",
    "    # 문장 부호 제거 ([,.?!:\\'\\\";] -> 빈칸으로)\n",
    "    text_string_re1 = re.sub('[,.?!:\\'\\\";]', '', text)\n",
    "    # 특수 문자 제거\n",
    "    text_string_re2 = re.sub('[!@#$%^&*()]|[0-9]', '', text_string_re1)\n",
    "    # 영문 대,소문자 -> 소문자로 통일\n",
    "    text_string_re3 = text_string_re2.lower()\n",
    "    # 불필요한 공백제거 \n",
    "    text_string_re4 = ' '.join(text_string_re3.split())\n",
    "    return text_string_re4\n",
    "\n",
    "clean_text2 = []\n",
    "\n",
    "for a in result_data:\n",
    "    clean_text2.append(clean_text(a))\n",
    "\n",
    "print(clean_text2)"
   ]
  },
  {
   "cell_type": "code",
   "execution_count": 3,
   "metadata": {},
   "outputs": [
    {
     "name": "stdout",
     "output_type": "stream",
     "text": [
      "{'비트코인': 1, '역대': 1, '신고가…관련주도': 1, '불기둥': 1, '쌍특검': 2, '표결': 1, '연기에': 1, '어두워진': 1, '국민의힘': 2, '왜': 3, '과기정통부': 1, '국내': 1, '이통사': 1, '통화기록': 1, '테라': 1, '中해킹': 1, '확인중': 1, '코': 1, '막힘': 1, '콧물': 1, '재채기': 1, '증상': 1, '환절기에도': 1, '조심해야': 1, '치매': 1, '걱정되는': 1, '중년': 1, '여성들“요가': 1, '한': 1, '번': 1, '해봐요”': 1, '“차라리': 1, '적금을': 1, '붓지”…낸': 1, '만큼': 1, '돌려받는': 1, '미래세대': 1, '新연금': 1, '[세대분리': 1, '연금개혁안②]': 1, '낙하산': 1, '타고': 2, '떨어진': 1, '‘최후의': 1, '수단’…가자주민': 1, '수백명': 1, '바다에': 1, '뛰어들었다': 1, '암표': 1, '꼼짝마에스티씨랩': 1, '매크로': 1, '탐지': 1, '솔루션': 1, '엠버스터': 1, '출시': 1, '퇴직연금': 1, '사전지정운용제도': 1, '조': 1, '원': 1, '시대…': 1, '고수익': 1, '뒤': 1, '가려진': 1, '고위험': 1, '연내': 2, '일시적': 2, '디플레': 2, '올': 2, '수': 2, '있다손성원': 2, '교수': 2, '전망': 2, '[월가월부]': 2, '김일성': 1, '시신': 1, '안치': 1, '금수산궁전에선': 1, '미니스커트·청바지': 1, '금지': 1, '삼청동·뉴욕': 1, '고급주택': 1, '‘풀소유’': 1, '논란': 1, '딛고…년만에': 1, '방송': 1, '복귀한': 1, '혜민': 1, '스님': 1, '“아': 1, '그거': 1, '맛이': 1, '뭐였지”': 1, '설명하자': 1, '음료가': 1, '‘뚝딱’…새': 1, '기술에': 1, '눈이': 1, '번쩍': 1, '지금': 1, '남양주': 1, '민심': 1, '“민주당': 1, '싹쓸이': 1, '이번엔': 1, '어림없어요”': 1, '수능': 1, '끝나면': 1, '후회': 1, '없이': 1, '책상': 1, '벗어나': 1, '미래': 1, '위해': 1, '놀자': 1, '[스프]': 1, '벌써': 1, '년…이럴': 1, '줄': 1, '몰랐던': 1, '러-우': 1, '전쟁': 1, '푸틴의': 1, '진짜': 1, '목적은': 1, '이젠': 1, '만원': 2, '넘보는': 1, '비트코인…하루': 1, '만에': 1, '넘게': 1, '올랐다': 1, '구글': 1, 'ceo': 1, '제미나이': 1, '실수': 1, '인정…기능': 1, '좋아지고': 1, '있다': 1, '해수부': 1, '한자·일본식': 1, '표현': 1, '수두룩한': 1, '수산': 1, '분야': 1, '용어': 1, '손질': 1, '일만에': 1, '조원': 1, '수익비트코인': 1, '급등에': 1, '웃는': 1, '이': 1, '남자': 1, '[전종철의': 1, '전격시사]': 1, '김종혁': 1, '조직부총장': 1, '-': 1, '“집권여당': 1, '공천잡음': 1, '이렇게': 1, '없던적': 1, '있었나”': 1, '[정치쇼]': 1, '조규홍': 1, '장관': 2, '강경': 1, '의협': 1, '개원의': 1, '많아서…': 1, '다른': 1, '분들과': 1, '얘기해야': 1, '[주니어': 1, '생글': 1, '기자가': 1, '간다]': 1, '파리의': 1, '아름다웠던': 1, '시절을': 1, '만나다': 1, '미셸': 1, '들라크루아': 1, '전시회': 1, '정쟁': 1, '‘거래': 1, '수단’': 1, '된': 1, '재표결과': 1, '선거구획정[이런정치]': 1, '[현장영상+]': 1, '정부': 1, '의료정상화': 1, '국민과': 1, '지역': 2, '살리기': 1, '위한': 1, '마지막': 1, '기회': 1, '[사이테크+]': 1, '인간·유인원': 1, '꼬리': 1, '없어지게': 1, '만든': 1, '유전자': 1, '변이': 1, '찾았다': 1, '[시선집중]': 1, '복지부': 1, '이탈': 1, '전공의': 2, '감소': 1, '추세': 1, '오늘': 1, '밤까지': 1, '복귀': 2, '명단': 1, '받고': 1, '현장': 1, '점검“': 1, '시커먼': 1, '피해': 1, '뒤로한': 1, '채': 1, '이동하는': 1, '불길': 1, '최후통첩': 1, '디데이': 1, '의사': 1, '집단행동': 1, '중대본': 1, '회의': 1, '휠체어': 1, '입장하는': 1, '교황': 1, '주미대한제국공사관': 1, '찾은': 1, '조태열': 1}\n"
     ]
    }
   ],
   "source": [
    "# 단어 빈도 수 파악 -> 딕셔너리 자료구조\n",
    "\n",
    "word_count = {}\n",
    "\n",
    "# 문장 하나씩 호출\n",
    "for text in clean_text2:\n",
    "    # 호출한 문장에서 단어 추출\n",
    "    for word in text.split():\n",
    "        # 단어를 key 값, 같은 단어 추가될 때 마다 1씩 증가\n",
    "        word_count[word] = word_count.get(word, 0) + 1\n",
    "\n",
    "print(word_count)"
   ]
  },
  {
   "cell_type": "code",
   "execution_count": 5,
   "metadata": {},
   "outputs": [
    {
     "name": "stdout",
     "output_type": "stream",
     "text": [
      "쌍특검 -> 2\n",
      "국민의힘 -> 2\n",
      "타고 -> 2\n",
      "연내 -> 2\n",
      "일시적 -> 2\n",
      "디플레 -> 2\n",
      "있다손성원 -> 2\n",
      "교수 -> 2\n",
      "전망 -> 2\n",
      "만원 -> 2\n",
      "장관 -> 2\n",
      "지역 -> 2\n",
      "전공의 -> 2\n",
      "복귀 -> 2\n",
      "{'쌍특검': 2, '국민의힘': 2, '타고': 2, '연내': 2, '일시적': 2, '디플레': 2, '있다손성원': 2, '교수': 2, '전망': 2, '만원': 2, '장관': 2, '지역': 2, '전공의': 2, '복귀': 2}\n"
     ]
    }
   ],
   "source": [
    "# 단어 전처리 -> 2회 이상 나온 단어 + 글자수 2~5자 단어만 선정\n",
    "\n",
    "new_word_count = {}\n",
    "\n",
    "for word, count in word_count.items():\n",
    "    if count >= 2 and len(word) >=2 and len(word) <=5:\n",
    "        print(word, \"->\", word_count[word])\n",
    "        new_word_count[word] = new_word_count.get(word, count)\n",
    "\n",
    "print(new_word_count)"
   ]
  },
  {
   "cell_type": "code",
   "execution_count": 6,
   "metadata": {},
   "outputs": [
    {
     "name": "stdout",
     "output_type": "stream",
     "text": [
      "[('쌍특검', 2), ('국민의힘', 2), ('타고', 2), ('연내', 2), ('일시적', 2)]\n"
     ]
    }
   ],
   "source": [
    "# 통계 작성\n",
    "from collections import Counter\n",
    "\n",
    "count_result = Counter(new_word_count)\n",
    "top5_word = count_result.most_common(5)\n",
    "print(top5_word)"
   ]
  },
  {
   "cell_type": "code",
   "execution_count": 8,
   "metadata": {},
   "outputs": [
    {
     "name": "stdout",
     "output_type": "stream",
     "text": [
      "['쌍특검', '국민의힘', '타고', '연내', '일시적'] [2, 2, 2, 2, 2]\n"
     ]
    },
    {
     "name": "stderr",
     "output_type": "stream",
     "text": [
      "C:\\Users\\hsb97\\AppData\\Roaming\\Python\\Python312\\site-packages\\IPython\\core\\pylabtools.py:152: UserWarning: Glyph 49933 (\\N{HANGUL SYLLABLE SSANG}) missing from current font.\n",
      "  fig.canvas.print_figure(bytes_io, **kw)\n",
      "C:\\Users\\hsb97\\AppData\\Roaming\\Python\\Python312\\site-packages\\IPython\\core\\pylabtools.py:152: UserWarning: Glyph 53945 (\\N{HANGUL SYLLABLE TEUG}) missing from current font.\n",
      "  fig.canvas.print_figure(bytes_io, **kw)\n",
      "C:\\Users\\hsb97\\AppData\\Roaming\\Python\\Python312\\site-packages\\IPython\\core\\pylabtools.py:152: UserWarning: Glyph 44160 (\\N{HANGUL SYLLABLE GEOM}) missing from current font.\n",
      "  fig.canvas.print_figure(bytes_io, **kw)\n",
      "C:\\Users\\hsb97\\AppData\\Roaming\\Python\\Python312\\site-packages\\IPython\\core\\pylabtools.py:152: UserWarning: Glyph 44397 (\\N{HANGUL SYLLABLE GUG}) missing from current font.\n",
      "  fig.canvas.print_figure(bytes_io, **kw)\n",
      "C:\\Users\\hsb97\\AppData\\Roaming\\Python\\Python312\\site-packages\\IPython\\core\\pylabtools.py:152: UserWarning: Glyph 48124 (\\N{HANGUL SYLLABLE MIN}) missing from current font.\n",
      "  fig.canvas.print_figure(bytes_io, **kw)\n",
      "C:\\Users\\hsb97\\AppData\\Roaming\\Python\\Python312\\site-packages\\IPython\\core\\pylabtools.py:152: UserWarning: Glyph 51032 (\\N{HANGUL SYLLABLE YI}) missing from current font.\n",
      "  fig.canvas.print_figure(bytes_io, **kw)\n",
      "C:\\Users\\hsb97\\AppData\\Roaming\\Python\\Python312\\site-packages\\IPython\\core\\pylabtools.py:152: UserWarning: Glyph 55192 (\\N{HANGUL SYLLABLE HIM}) missing from current font.\n",
      "  fig.canvas.print_figure(bytes_io, **kw)\n",
      "C:\\Users\\hsb97\\AppData\\Roaming\\Python\\Python312\\site-packages\\IPython\\core\\pylabtools.py:152: UserWarning: Glyph 53440 (\\N{HANGUL SYLLABLE TA}) missing from current font.\n",
      "  fig.canvas.print_figure(bytes_io, **kw)\n",
      "C:\\Users\\hsb97\\AppData\\Roaming\\Python\\Python312\\site-packages\\IPython\\core\\pylabtools.py:152: UserWarning: Glyph 44256 (\\N{HANGUL SYLLABLE GO}) missing from current font.\n",
      "  fig.canvas.print_figure(bytes_io, **kw)\n",
      "C:\\Users\\hsb97\\AppData\\Roaming\\Python\\Python312\\site-packages\\IPython\\core\\pylabtools.py:152: UserWarning: Glyph 50672 (\\N{HANGUL SYLLABLE YEON}) missing from current font.\n",
      "  fig.canvas.print_figure(bytes_io, **kw)\n",
      "C:\\Users\\hsb97\\AppData\\Roaming\\Python\\Python312\\site-packages\\IPython\\core\\pylabtools.py:152: UserWarning: Glyph 45236 (\\N{HANGUL SYLLABLE NAE}) missing from current font.\n",
      "  fig.canvas.print_figure(bytes_io, **kw)\n",
      "C:\\Users\\hsb97\\AppData\\Roaming\\Python\\Python312\\site-packages\\IPython\\core\\pylabtools.py:152: UserWarning: Glyph 51068 (\\N{HANGUL SYLLABLE IL}) missing from current font.\n",
      "  fig.canvas.print_figure(bytes_io, **kw)\n",
      "C:\\Users\\hsb97\\AppData\\Roaming\\Python\\Python312\\site-packages\\IPython\\core\\pylabtools.py:152: UserWarning: Glyph 49884 (\\N{HANGUL SYLLABLE SI}) missing from current font.\n",
      "  fig.canvas.print_figure(bytes_io, **kw)\n",
      "C:\\Users\\hsb97\\AppData\\Roaming\\Python\\Python312\\site-packages\\IPython\\core\\pylabtools.py:152: UserWarning: Glyph 51201 (\\N{HANGUL SYLLABLE JEOG}) missing from current font.\n",
      "  fig.canvas.print_figure(bytes_io, **kw)\n"
     ]
    },
    {
     "data": {
      "image/png": "[encoded data removed]",
      "text/plain": [
       "<Figure size 640x480 with 1 Axes>"
      ]
     },
     "metadata": {},
     "output_type": "display_data"
    },
    {
     "data": {
      "image/png": "[encoded data removed]",
      "text/plain": [
       "<Figure size 640x480 with 1 Axes>"
      ]
     },
     "metadata": {},
     "output_type": "display_data"
    }
   ],
   "source": [
    "# 그래프 작성\n",
    "# x축 : 키워드\n",
    "# y축 : 빈도수\n",
    "\n",
    "words =[]\n",
    "counts = []\n",
    "\n",
    "for word, count in top5_word:\n",
    "    words.append(word)\n",
    "    counts.append(count)\n",
    "\n",
    "print(words, counts)\n",
    "\n",
    "import matplotlib.pyplot as plt\n",
    "\n",
    "# 선 그래프\n",
    "plt.plot(words, counts)\n",
    "plt.show()\n",
    "\n",
    "# 막대 그래프\n",
    "plt.bar(words, counts)\n",
    "plt.show()"
   ]
  },
  {
   "cell_type": "code",
   "execution_count": 10,
   "metadata": {},
   "outputs": [
    {
     "name": "stdout",
     "output_type": "stream",
     "text": [
      "이미지 저장완료 :  screenshot_2013_1.png\n",
      "이미지 저장완료 :  screenshot_2013_2.png\n",
      "이미지 저장완료 :  screenshot_2013_3.png\n",
      "이미지 저장완료 :  screenshot_2014_1.png\n",
      "이미지 저장완료 :  screenshot_2014_2.png\n",
      "이미지 저장완료 :  screenshot_2014_3.png\n",
      "이미지 저장완료 :  screenshot_2015_1.png\n",
      "이미지 저장완료 :  screenshot_2015_2.png\n",
      "이미지 저장완료 :  screenshot_2015_3.png\n",
      "이미지 저장완료 :  screenshot_2016_1.png\n",
      "이미지 저장완료 :  screenshot_2016_2.png\n",
      "이미지 저장완료 :  screenshot_2016_3.png\n",
      "이미지 저장완료 :  screenshot_2017_1.png\n",
      "이미지 저장완료 :  screenshot_2017_2.png\n",
      "이미지 저장완료 :  screenshot_2017_3.png\n",
      "이미지 저장완료 :  screenshot_2018_1.png\n",
      "이미지 저장완료 :  screenshot_2018_2.png\n",
      "이미지 저장완료 :  screenshot_2018_3.png\n",
      "이미지 저장완료 :  screenshot_2019_1.png\n",
      "이미지 저장완료 :  screenshot_2019_2.png\n",
      "이미지 저장완료 :  screenshot_2019_3.png\n",
      "이미지 저장완료 :  screenshot_2020_1.png\n",
      "이미지 저장완료 :  screenshot_2020_2.png\n",
      "이미지 저장완료 :  screenshot_2020_3.png\n",
      "이미지 저장완료 :  screenshot_2021_1.png\n",
      "이미지 저장완료 :  screenshot_2021_2.png\n",
      "이미지 저장완료 :  screenshot_2021_3.png\n",
      "이미지 저장완료 :  screenshot_2022_1.png\n",
      "이미지 저장완료 :  screenshot_2022_2.png\n",
      "이미지 저장완료 :  screenshot_2022_3.png\n",
      "이미지 저장완료 :  screenshot_2023_1.png\n",
      "이미지 저장완료 :  screenshot_2023_2.png\n",
      "이미지 저장완료 :  screenshot_2023_3.png\n"
     ]
    }
   ],
   "source": [
    "# 다음 영화 순위 크롤링\n",
    "\n",
    "from selenium import webdriver\n",
    "from selenium.webdriver.common.by import By\n",
    "from selenium.webdriver.chrome.options import Options\n",
    "\n",
    "\n",
    "# 현재 다음에서 제공되는 연도는 2013~2023년까지\n",
    "# 그 외의 연도는 범위에 넣어도 이미지 출력되지않음\n",
    "for year in range(2013, 2023):\n",
    "    url = \"https://search.daum.net/search?nil_suggest=btn&w=tot&DA=SBC&q={}%EB%85%84%EC%98%81%ED%99%94%EC%88%9C%EC%9C%84\".format(year)\n",
    "\n",
    "    chrome_options = Options()\n",
    "    chrome_options.add_argument(\"--headless\")\n",
    "    driver = webdriver.Chrome(options=chrome_options)\n",
    "\n",
    "    driver.get(url)\n",
    "    images = driver.find_elements(By.CSS_SELECTOR, \"img.thumb_img\")\n",
    "\n",
    "    for (index, image) in enumerate(images):\n",
    "        screenshot_filename = \"screenshot_{}_{}.png\".format(year, index + 1)\n",
    "        image.screenshot(screenshot_filename)\n",
    "        print(\"이미지 저장완료 : \", screenshot_filename)\n",
    "\n",
    "        # 상위 3개 이미지만\n",
    "        if index >=2:\n",
    "            break"
   ]
  }
 ],
 "metadata": {
  "kernelspec": {
   "display_name": "Python 3",
   "language": "python",
   "name": "python3"
  },
  "language_info": {
   "codemirror_mode": {
    "name": "ipython",
    "version": 3
   },
   "file_extension": ".py",
   "mimetype": "text/x-python",
   "name": "python",
   "nbconvert_exporter": "python",
   "pygments_lexer": "ipython3",
   "version": "3.12.0"
  }
 },
 "nbformat": 4,
 "nbformat_minor": 2
}
